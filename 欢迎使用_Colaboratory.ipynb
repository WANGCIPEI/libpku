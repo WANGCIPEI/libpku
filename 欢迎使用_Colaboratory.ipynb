{
  "nbformat": 4,
  "nbformat_minor": 0,
  "metadata": {
    "colab": {
      "name": "欢迎使用 Colaboratory",
      "provenance": [],
      "collapsed_sections": [],
      "toc_visible": true,
      "include_colab_link": true
    },
    "kernelspec": {
      "display_name": "Python 3",
      "name": "python3"
    }
  },
  "cells": [
    {
      "cell_type": "markdown",
      "metadata": {
        "id": "view-in-github",
        "colab_type": "text"
      },
      "source": [
        "<a href=\"https://colab.research.google.com/github/WANGCIPEI/libpku/blob/master/%E6%AC%A2%E8%BF%8E%E4%BD%BF%E7%94%A8_Colaboratory.ipynb\" target=\"_parent\"><img src=\"https://colab.research.google.com/assets/colab-badge.svg\" alt=\"Open In Colab\"/></a>"
      ]
    },
    {
      "cell_type": "code",
      "metadata": {
        "id": "r_Gp55OueS4a",
        "colab_type": "code",
        "colab": {
          "base_uri": "https://localhost:8080/",
          "height": 73
        },
        "outputId": "03fcd226-0ce9-43e5-c821-1859b85459ea"
      },
      "source": [
        "#coding=utf-8\n",
        "\n",
        "import cv2 as cv\n",
        "from google.colab.patches import cv2_imshow\n",
        "\n",
        "bg_color = [255,255,255]\n",
        "\n",
        "def calc_diff(pixel):\n",
        "    return (pixel[0]-bg_color[0])**2+(pixel[1]-bg_color[1])**2+(pixel[2]-bg_color[2])**2\n",
        "\n",
        "def remove_bg():\n",
        "    image_path = '/content/1.png'\n",
        "    pic = cv.imread(image_path)\n",
        "    pic = cv.cvtColor(pic,cv.COLOR_BGR2BGRA)\n",
        "    h, w = pic.shape[0:2]\n",
        "    for i in range(h):\n",
        "        for j in range(w):\n",
        "            if calc_diff(pic[i][j]) < 20000:\n",
        "                pic[i][j][0] = 255\n",
        "                pic[i][j][1] = 255\n",
        "                pic[i][j][2] = 255\n",
        "    \n",
        "    return pic\n",
        "    \n",
        "if __name__ == '__main__':\n",
        "    pic = remove_bg()\n",
        "    print(calc_diff([206,125,43]))\n",
        "    remove_bg() \n",
        "    cv2_imshow(pic)\n",
        "    cv.imwrite('1.1.png',pic,[int(cv.IMWRITE_JPEG_QUALITY),95])"
      ],
      "execution_count": 47,
      "outputs": [
        {
          "output_type": "stream",
          "text": [
            "64245\n"
          ],
          "name": "stdout"
        },
        {
          "output_type": "display_data",
          "data": {
            "image/png": "[encoded data removed]",
            "text/plain": [
              "<PIL.Image.Image image mode=RGBA size=75x39 at 0x7FBB03E022E8>"
            ]
          },
          "metadata": {
            "tags": []
          }
        }
      ]
    }
  ]
}