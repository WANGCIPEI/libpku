{
  "nbformat": 4,
  "nbformat_minor": 0,
  "metadata": {
    "colab": {
      "name": "“欢迎使用 Colaboratory”的副本",
      "provenance": [],
      "collapsed_sections": [],
      "toc_visible": true,
      "include_colab_link": true
    },
    "kernelspec": {
      "display_name": "Python 3",
      "name": "python3"
    }
  },
  "cells": [
    {
      "cell_type": "markdown",
      "metadata": {
        "id": "view-in-github",
        "colab_type": "text"
      },
      "source": [
        "<a href=\"https://colab.research.google.com/github/WANGCIPEI/libpku/blob/master/%E2%80%9C%E6%AC%A2%E8%BF%8E%E4%BD%BF%E7%94%A8_Colaboratory%E2%80%9D%E7%9A%84%E5%89%AF%E6%9C%AC.ipynb\" target=\"_parent\"><img src=\"https://colab.research.google.com/assets/colab-badge.svg\" alt=\"Open In Colab\"/></a>"
      ]
    },
    {
      "cell_type": "code",
      "metadata": {
        "id": "r_Gp55OueS4a",
        "colab_type": "code",
        "outputId": "1563aded-48e6-4733-cfce-c0045c3c4157",
        "colab": {
          "base_uri": "https://localhost:8080/",
          "height": 90
        }
      },
      "source": [
        "#coding=utf-8\n",
        "\n",
        "import cv2 as cv\n",
        "from google.colab.patches import cv2_imshow\n",
        "\n",
        "bg_color = [255,255,255]\n",
        "\n",
        "def calc_diff(pixel):\n",
        "    return (pixel[0]-bg_color[0])**2 + (pixel[1]-bg_color[1])**2 + (pixel[2]-bg_color[2])**2\n",
        "\n",
        "def remove_bg():\n",
        "    image_path = '/content/2.png'\n",
        "    pic = cv.imread(image_path)\n",
        "    pic = cv.cvtColor(pic,cv.COLOR_BGR2BGRA)\n",
        "    h, w = pic.shape[0:2]\n",
        "    for i in range(h):\n",
        "        for j in range(w):\n",
        "            if calc_diff(pic[i][j]) < 20000:\n",
        "                pic[i][j][0] = 255\n",
        "                pic[i][j][1] = 255\n",
        "                pic[i][j][2] = 255\n",
        "    return pic\n",
        "\n",
        "if __name__ == '__main__':\n",
        "    pic = remove_bg()\n",
        "    print(calc_diff([206,125,43]))\n",
        "    remove_bg()\n",
        "    cv2_imshow(pic)\n",
        "    cv.imwrite(\"2.1.png\", pic, [int(cv.IMWRITE_PNG_COMPRESSION)]) "
      ],
      "execution_count": 0,
      "outputs": [
        {
          "output_type": "stream",
          "text": [
            "64245\n"
          ],
          "name": "stdout"
        },
        {
          "output_type": "display_data",
          "data": {
            "image/png": "[encoded data removed]",
            "text/plain": [
              "<PIL.Image.Image image mode=RGBA size=55x56 at 0x7F893D8D67F0>"
            ]
          },
          "metadata": {
            "tags": []
          }
        }
      ]
    },
    {
      "cell_type": "code",
      "metadata": {
        "id": "zRLt1nkGVRCg",
        "colab_type": "code",
        "outputId": "0c607ae4-cef0-40a5-a861-7115e9bd8136",
        "colab": {
          "base_uri": "https://localhost:8080/",
          "height": 35
        }
      },
      "source": [
        "import numpy as np  \n",
        "import cv2  \n",
        "from google.colab.patches import cv2_imshow\n",
        "\n",
        "#create a black use numpy,size is:512*512\n",
        "img = np.zeros((512,512,3), np.uint8)   \n",
        "#fill the image with white\n",
        "img.fill(255)\n",
        "cv.imwrite('blank.png',img,[int(cv.IMWRITE_PNG_COMPRESSION)])"
      ],
      "execution_count": 0,
      "outputs": [
        {
          "output_type": "execute_result",
          "data": {
            "text/plain": [
              "True"
            ]
          },
          "metadata": {
            "tags": []
          },
          "execution_count": 18
        }
      ]
    },
    {
      "cell_type": "code",
      "metadata": {
        "id": "RIZfIVFYYxEw",
        "colab_type": "code",
        "outputId": "ab93bc6e-5f75-4a9b-f097-0385d09a5b57",
        "colab": {
          "base_uri": "https://localhost:8080/",
          "height": 529
        }
      },
      "source": [
        "import cv2\n",
        "import random\n",
        "import numpy as np\n",
        "from math import cos,sin,radians\n",
        "from matplotlib import pyplot as plt\n",
        "from google.colab.patches import cv2_imshow\n",
        "\n",
        "def overlay_image_alpha(img, img_overlay, pos, alpha_mask):\n",
        "\n",
        "    x, y = pos\n",
        "\n",
        "    # Image ranges\n",
        "    y1, y2 = max(0, y_offset), min(img.shape[0], y + img_overlay.shape[0])\n",
        "    x1, x2 = max(0, x_offset), min(img.shape[1], x + img_overlay.shape[1])\n",
        "\n",
        "    # Overlay ranges\n",
        "    y1o, y2o = max(0, -y_offset), min(img_overlay.shape[0], img.shape[0] - y)\n",
        "    x1o, x2o = max(0, -x_offset), min(img_overlay.shape[1], img.shape[1] - x)\n",
        "\n",
        "    # Exit if nothing to do\n",
        "    if y1 >= y2 or x1 >= x2 or y1o >= y2o or x1o >= x2o:\n",
        "        return\n",
        "    alpha = alpha_mask[y1o:y2o, x1o:x2o]\n",
        "    alpha_inv = 1.0 - alpha\n",
        "    channels = img.shape[2]\n",
        "    for c in range(channels):\n",
        "        img[y1:y2, x1:x2, c] = (alpha * img_overlay[y1o:y2o, x1o:x2o, c] + alpha_inv * img[y1:y2, x1:x2, c])\n",
        "\n",
        "def rotate(image, angle, center = None, scale = 1.0):\n",
        "\n",
        "    (h, w) = s_img.shape[:2]\n",
        "\n",
        "    if center is None:\n",
        "        center = (w / 2, h / 2)\n",
        "\n",
        "    M = cv2.getRotationMatrix2D(center, angle, scale)\n",
        "    rotated = cv2.warpAffine(image, M, (w, h))\n",
        "\n",
        "    return rotated\n",
        "\n",
        "s_img = cv2.imread(\"/content/1.1.png\")\n",
        "l_img = cv2.imread(\"/content/blank.png\")\n",
        "s_img = rotate(image, angle, center = None, scale = 1.0)\n",
        "#(h,w) = s_img.shape[:2]\n",
        "#center = (w / 2,h / 2)\n",
        "#angle = random.randint(0,360)\n",
        "#M = cv2.getRotationMatrix2D(center,angle,1)#旋转缩放矩阵：(旋转中心，旋转角度，缩放因子)  旋转45度，缩放0.75\n",
        "#rotated = cv2.warpAffine(l_img,M,(w,h))\n",
        "#cv2_imshow(rotated)\n",
        "x_offset=y_offset=random.randint(0,512)\n",
        "l_img[y_offset:y_offset+s_img.shape[0], x_offset:x_offset+s_img.shape[1]] = s_img\n",
        "s_img = cv2.imread(\"/content/1.1.png\")\n",
        "\n",
        "cv2_imshow(l_img) "
      ],
      "execution_count": 74,
      "outputs": [
        {
          "output_type": "display_data",
          "data": {
            "image/png": "[encoded data removed]",
            "text/plain": [
              "<PIL.Image.Image image mode=RGB size=512x512 at 0x7F893CE86E48>"
            ]
          },
          "metadata": {
            "tags": []
          }
        }
      ]
    },
    {
      "cell_type": "code",
      "metadata": {
        "id": "HrU36v-QDqkA",
        "colab_type": "code",
        "colab": {
          "base_uri": "https://localhost:8080/",
          "height": 56
        },
        "outputId": "63d7f893-c913-4f4b-a872-c4af8003c139"
      },
      "source": [
        "import numpy as np\n",
        "import cv2\n",
        "from math import cos,sin,radians\n",
        "from matplotlib import pyplot as plt\n",
        "from google.colab.patches import cv2_imshow\n",
        "\n",
        "img = cv2.imread('/content/1.1.png')\n",
        "\n",
        "height, width, channel = img.shape\n",
        "\n",
        "# 求得图片中心点， 作为旋转的轴心\n",
        "cx = int(width / 2)\n",
        "cy = int(height / 2)\n",
        "# 旋转的中心\n",
        "center = (cx, cy)\n",
        "\n",
        "new_dim = (width, height)\n",
        "\n",
        "# 进行2D 仿射变换\n",
        "# 围绕原点 逆时针旋转30度\n",
        "M = cv2.getRotationMatrix2D(center=center,angle=90, scale=1.0)\n",
        "rotated_30 = cv2.warpAffine(img, M, new_dim)\n",
        "cv2_imshow(rotated_30)"
      ],
      "execution_count": 68,
      "outputs": [
        {
          "output_type": "display_data",
          "data": {
            "image/png": "[encoded data removed]",
            "text/plain": [
              "<PIL.Image.Image image mode=RGB size=75x39 at 0x7F893D889DA0>"
            ]
          },
          "metadata": {
            "tags": []
          }
        }
      ]
    }
  ]
}